{
 "cells": [
  {
   "cell_type": "markdown",
   "id": "cd52a519",
   "metadata": {},
   "source": [
    "<div style=\"width:100%;text-align: center; background-color:#white;\"> <img align=middle src=\"https://cdn.open-pr.com/W/1/W111645458_g.jpg\" alt=\"Decision Tree\" >"
   ]
  },
  {
   "cell_type": "markdown",
   "id": "a4c7bcd2",
   "metadata": {},
   "source": [
    "<div style=\"color:white;\n",
    "           display:fill;\n",
    "           border-radius:5px;\n",
    "           background-color:#32747B;\n",
    "           font-size:200%;\n",
    "           font-family:Serif;\n",
    "           letter-spacing:0.5px\">\n",
    "\n",
    "<p style=\"padding: 10px;\n",
    "          color:#FFFFFF;\n",
    "          font-size:120%;\n",
    "          text-align:center;\">\n",
    "Import libraries\n",
    "</p>\n",
    "</div>"
   ]
  },
  {
   "cell_type": "code",
   "execution_count": 36,
   "id": "41e87e56",
   "metadata": {},
   "outputs": [],
   "source": [
    "import os\n",
    "import librosa\n",
    "import numpy as np\n",
    "from sklearn.preprocessing import LabelEncoder\n",
    "import matplotlib.pyplot as plt\n",
    "import wave\n",
    "from sklearn.model_selection import train_test_split\n",
    "from sklearn.preprocessing import StandardScaler\n",
    "from scipy.fftpack import fft\n",
    "from sklearn.metrics import confusion_matrix , accuracy_score , classification_report\n",
    "from sklearn.neighbors import KNeighborsClassifier\n",
    "from sklearn.linear_model import LogisticRegression \n",
    "from sklearn.tree import DecisionTreeClassifier \n",
    "from sklearn.naive_bayes import GaussianNB \n",
    "from sklearn.svm import SVC\n",
    "from xgboost import XGBClassifier\n",
    "from sklearn .ensemble import RandomForestClassifier \n",
    "from sklearn.ensemble import ExtraTreesClassifier\n",
    "from sklearn .ensemble import VotingClassifier , BaggingClassifier , StackingClassifier "
   ]
  },
  {
   "cell_type": "markdown",
   "id": "832944af",
   "metadata": {},
   "source": [
    "<div style=\"color:white;\n",
    "           display:fill;\n",
    "           border-radius:5px;\n",
    "           background-color:#32747B;\n",
    "           font-size:200%;\n",
    "           font-family:Serif;\n",
    "           letter-spacing:0.5px\">\n",
    "\n",
    "<p style=\"padding: 10px;\n",
    "          color:#FFFFFF;\n",
    "          font-size:120%;\n",
    "          text-align:center;\">\n",
    "Loading Audio Data\n",
    "</p>\n",
    "</div>"
   ]
  },
  {
   "cell_type": "code",
   "execution_count": 2,
   "id": "517102c2",
   "metadata": {},
   "outputs": [],
   "source": [
    "def load_dataset(directory):\n",
    "    X, y = [], []\n",
    "    \n",
    "    for word_dir in os.listdir(directory):\n",
    "        word_path = os.path.join(directory, word_dir)\n",
    "        if os.path.isdir(word_path):\n",
    "            for filename in os.listdir(word_path):\n",
    "                if filename.endswith('.wav'):\n",
    "                    file_path = os.path.join(word_path, filename)\n",
    "                    # Extract MFCC features\n",
    "                    mfcc = extract_mfcc(file_path)\n",
    "                    X.append(mfcc)\n",
    "                    y.append(word_dir)\n",
    "    \n",
    "    return np.array(X), np.array(y)"
   ]
  },
  {
   "cell_type": "markdown",
   "id": "99ef5809",
   "metadata": {},
   "source": [
    "<div style=\"color:white;\n",
    "           display:fill;\n",
    "           border-radius:5px;\n",
    "           background-color:#32747B;\n",
    "           font-size:200%;\n",
    "           font-family:Serif;\n",
    "           letter-spacing:0.5px\">\n",
    "\n",
    "<p style=\"padding: 10px;\n",
    "          color:#FFFFFF;\n",
    "          font-size:120%;\n",
    "          text-align:center;\">\n",
    "Feature Extraction\n",
    "</p>\n",
    "</div>"
   ]
  },
  {
   "cell_type": "code",
   "execution_count": 3,
   "id": "58fbe6af",
   "metadata": {},
   "outputs": [],
   "source": [
    "def extract_mfcc(file_path, n_mfcc=13):\n",
    "    \n",
    "    signal, sr = librosa.load(file_path, sr=None)\n",
    "    mfcc = librosa.feature.mfcc(y=signal, sr=sr, n_mfcc=n_mfcc)\n",
    "    return np.mean(mfcc, axis=1)"
   ]
  },
  {
   "cell_type": "code",
   "execution_count": 4,
   "id": "809e0767",
   "metadata": {
    "scrolled": true
   },
   "outputs": [],
   "source": [
    "X,y=load_dataset(r\"C:\\Users\\Tweety\\Videos\\AI\\Books for DS&AI\\Dataset\\dataset\")"
   ]
  },
  {
   "cell_type": "markdown",
   "id": "7fc16cf5",
   "metadata": {},
   "source": [
    "<div style=\"color:white;\n",
    "           display:fill;\n",
    "           border-radius:5px;\n",
    "           background-color:#32747B;\n",
    "           font-size:200%;\n",
    "           font-family:Serif;\n",
    "           letter-spacing:0.5px\">\n",
    "\n",
    "<p style=\"padding: 10px;\n",
    "          color:#FFFFFF;\n",
    "          font-size:120%;\n",
    "          text-align:center;\">\n",
    "Data scaling\n",
    "</p>\n",
    "</div>"
   ]
  },
  {
   "cell_type": "code",
   "execution_count": 5,
   "id": "717aa416",
   "metadata": {},
   "outputs": [],
   "source": [
    "scaler = StandardScaler()\n",
    "X= scaler.fit_transform(X)"
   ]
  },
  {
   "cell_type": "markdown",
   "id": "d6388882",
   "metadata": {},
   "source": [
    "<div style=\"color:white;\n",
    "           display:fill;\n",
    "           border-radius:5px;\n",
    "           background-color:#32747B;\n",
    "           font-size:200%;\n",
    "           font-family:Serif;\n",
    "           letter-spacing:0.5px\">\n",
    "\n",
    "<p style=\"padding: 10px;\n",
    "          color:#FFFFFF;\n",
    "          font-size:120%;\n",
    "          text-align:center;\">\n",
    "Label Encoding\n",
    "</p>\n",
    "</div>"
   ]
  },
  {
   "cell_type": "code",
   "execution_count": 6,
   "id": "1d6abaf2",
   "metadata": {},
   "outputs": [],
   "source": [
    "# Encode the labels\n",
    "label_encoder = LabelEncoder()\n",
    "y_encoded = label_encoder.fit_transform(y)\n",
    "# Fit the encoder and transform the labels"
   ]
  },
  {
   "cell_type": "markdown",
   "id": "976c2f81",
   "metadata": {},
   "source": [
    "<p style=\"padding: 10px;\n",
    "          color:#32747B;\n",
    "          font-size:180%;\n",
    "          font-family:Serif;\n",
    "          text-align:center;\">   \n",
    "Split the data\n",
    "     </p>"
   ]
  },
  {
   "cell_type": "code",
   "execution_count": 7,
   "id": "40f36004",
   "metadata": {},
   "outputs": [],
   "source": [
    "# Split the data into train and test sets\n",
    "X_train, X_test, y_train, y_test = train_test_split(X,y_encoded,test_size=0.2,random_state=42)"
   ]
  },
  {
   "cell_type": "markdown",
   "id": "6aeacc3a",
   "metadata": {},
   "source": [
    "<div style=\"color:white;\n",
    "           display:fill;\n",
    "           border-radius:5px;\n",
    "           background-color:#32747B;\n",
    "           font-size:200%;\n",
    "           font-family:Serif;\n",
    "           letter-spacing:0.5px\">\n",
    "\n",
    "<p style=\"padding: 10px;\n",
    "          color:#FFFFFF;\n",
    "          font-size:120%;\n",
    "          text-align:center;\">\n",
    "Building ML Models\n",
    "</p>\n",
    "</div>"
   ]
  },
  {
   "cell_type": "markdown",
   "id": "90019ecc",
   "metadata": {},
   "source": [
    "----------------\n",
    "<div style=\"color:white;\n",
    "           display:fill;\n",
    "           border-radius:3px;\n",
    "           background-color:#74A8D5;\n",
    "           font-size:200%;\n",
    "           font-family:Serif;\n",
    "           letter-spacing:0.5px\">\n",
    "\n",
    "<p style=\"padding: 4px;\n",
    "          color:white;\n",
    "          font-size:120%;\n",
    "          text-align:center;\">\n",
    "Knearest Neighbor\n",
    "</p>\n",
    "</div>\n",
    "\n",
    "<div style=\"width:100%;text-align: center; background-color:#white;\"> <img align=middle src=\"https://upload.wikimedia.org/wikipedia/commons/thumb/e/e7/KnnClassification.svg/220px-KnnClassification.svg.png\" alt=\"Knearest Neighbor\" width=\"400\" height=\"250\" >"
   ]
  },
  {
   "cell_type": "markdown",
   "id": "2998156b",
   "metadata": {},
   "source": [
    "<p style=\"padding: 10px;\n",
    "          color:#32747B;\n",
    "          font-size:180%;\n",
    "          font-family:Serif;\n",
    "          text-align:center;\">   \n",
    "Model Training\n",
    "     </p>"
   ]
  },
  {
   "cell_type": "code",
   "execution_count": 8,
   "id": "d4e92f19",
   "metadata": {},
   "outputs": [
    {
     "data": {
      "text/plain": [
       "KNeighborsClassifier(n_neighbors=3)"
      ]
     },
     "execution_count": 8,
     "metadata": {},
     "output_type": "execute_result"
    }
   ],
   "source": [
    "knn = KNeighborsClassifier(n_neighbors=3)\n",
    "knn.fit(X_train,y_train)"
   ]
  },
  {
   "cell_type": "markdown",
   "id": "6b0739d1",
   "metadata": {},
   "source": [
    "<p style=\"padding: 10px;\n",
    "          color:#32747B;\n",
    "          font-size:180%;\n",
    "          font-family:Serif;\n",
    "          text-align:center;\">   \n",
    "Evaluation Metrics\n",
    "     </p>"
   ]
  },
  {
   "cell_type": "code",
   "execution_count": 9,
   "id": "9cfc8770",
   "metadata": {},
   "outputs": [
    {
     "name": "stderr",
     "output_type": "stream",
     "text": [
      "C:\\Users\\Tweety\\anaconda3\\lib\\site-packages\\sklearn\\neighbors\\_classification.py:228: FutureWarning: Unlike other reduction functions (e.g. `skew`, `kurtosis`), the default behavior of `mode` typically preserves the axis it acts along. In SciPy 1.11.0, this behavior will change: the default value of `keepdims` will become False, the `axis` over which the statistic is taken will be eliminated, and the value None will no longer be accepted. Set `keepdims` to True or False to avoid this warning.\n",
      "  mode, _ = stats.mode(_y[neigh_ind, k], axis=1)\n"
     ]
    },
    {
     "data": {
      "text/plain": [
       "0.8589473684210527"
      ]
     },
     "execution_count": 9,
     "metadata": {},
     "output_type": "execute_result"
    }
   ],
   "source": [
    "y_pred = knn.predict(X_test)\n",
    "accuracy_score(y_test,y_pred)"
   ]
  },
  {
   "cell_type": "markdown",
   "id": "67ec9cca",
   "metadata": {},
   "source": [
    "----------------\n",
    "<div style=\"color:white;\n",
    "           display:fill;\n",
    "           border-radius:3px;\n",
    "           background-color:#74A8D5;\n",
    "           font-size:200%;\n",
    "           font-family:Serif;\n",
    "           letter-spacing:0.5px\">\n",
    "\n",
    "<p style=\"padding: 4px;\n",
    "          color:white;\n",
    "          font-size:120%;\n",
    "          text-align:center;\">\n",
    "Random Forest \n",
    "</p>\n",
    "</div>\n",
    "\n",
    "<div style=\"width:100%;text-align: center; background-color:#white;\"> <img align=middle src=\"https://www.spotfire.com/content/dam/spotfire/images/graphics/inforgraphics/random-forest-diagram.svg\" alt=\" Random Forest \"width=\"650\" height=\"40\" >"
   ]
  },
  {
   "cell_type": "markdown",
   "id": "64474552",
   "metadata": {},
   "source": [
    "<p style=\"padding: 10px;\n",
    "          color:#4D3737;\n",
    "          font-size:180%;\n",
    "          font-family:Serif;\n",
    "          text-align:center;\">   \n",
    " Random Forest is a technique of Ensamble Learning that builds multiple decision trees on different samples and takes their majority vote for classification and average in case of regression.\n",
    "     </p>\n"
   ]
  },
  {
   "cell_type": "code",
   "execution_count": 10,
   "id": "1d7e2787",
   "metadata": {},
   "outputs": [
    {
     "data": {
      "text/plain": [
       "RandomForestClassifier(n_estimators=1000, random_state=123)"
      ]
     },
     "execution_count": 10,
     "metadata": {},
     "output_type": "execute_result"
    }
   ],
   "source": [
    "rf_model = RandomForestClassifier(n_estimators=1000,criterion='gini',random_state = 123)\n",
    "rf_model.fit(X_train,y_train)"
   ]
  },
  {
   "cell_type": "code",
   "execution_count": 11,
   "id": "7fd0e954",
   "metadata": {},
   "outputs": [
    {
     "data": {
      "text/plain": [
       "0.8842105263157894"
      ]
     },
     "execution_count": 11,
     "metadata": {},
     "output_type": "execute_result"
    }
   ],
   "source": [
    "y_pred = rf_model.predict(X_test)\n",
    "accuracy_score(y_test,y_pred)"
   ]
  },
  {
   "cell_type": "markdown",
   "id": "349e4269",
   "metadata": {},
   "source": [
    "-----------------\n",
    "<div style=\"color:white;\n",
    "           display:fill;\n",
    "           border-radius:3px;\n",
    "           background-color:#74A8D5;\n",
    "           font-size:200%;\n",
    "           font-family:Serif;\n",
    "           letter-spacing:0.5px\">\n",
    "\n",
    "<p style=\"padding: 4px;\n",
    "          color:white;\n",
    "          font-size:120%;\n",
    "          text-align:center;\">\n",
    " Naïve Bayes \n",
    "</p>\n",
    "</div>\n",
    "\n",
    "<div style=\"width:100%;text-align: center; background-color:#white;\"> <img align=middle src=\"https://media.licdn.com/dms/image/D4E12AQEFlI6OZ4DcsQ/article-cover_image-shrink_600_2000/0/1665583775652?e=2147483647&v=beta&t=JMw-uu004Fv6NSahQ9mQ80zipjur1k1oB_BRGdW6Czg\" alt=\" Naïve Bayes \"width=\"500\" height=\"500\" >"
   ]
  },
  {
   "cell_type": "code",
   "execution_count": 12,
   "id": "0ddefabe",
   "metadata": {},
   "outputs": [
    {
     "data": {
      "text/plain": [
       "GaussianNB()"
      ]
     },
     "execution_count": 12,
     "metadata": {},
     "output_type": "execute_result"
    }
   ],
   "source": [
    "NB_model = GaussianNB()\n",
    "NB_model.fit(X_train , y_train)"
   ]
  },
  {
   "cell_type": "code",
   "execution_count": 13,
   "id": "88a5c71c",
   "metadata": {},
   "outputs": [
    {
     "data": {
      "text/plain": [
       "0.8473684210526315"
      ]
     },
     "execution_count": 13,
     "metadata": {},
     "output_type": "execute_result"
    }
   ],
   "source": [
    "y_pred = NB_model.predict(X_test)\n",
    "accuracy_score(y_test,y_pred)"
   ]
  },
  {
   "cell_type": "markdown",
   "id": "9cf61845",
   "metadata": {},
   "source": [
    "-----------------\n",
    "<div style=\"color:white;\n",
    "           display:fill;\n",
    "           border-radius:3px;\n",
    "           background-color:#74A8D5;\n",
    "           font-size:200%;\n",
    "           font-family:Serif;\n",
    "           letter-spacing:0.5px\">\n",
    "\n",
    "<p style=\"padding: 4px;\n",
    "          color:white;\n",
    "          font-size:120%;\n",
    "          text-align:center;\">\n",
    "SVC [Support Vector Classifier]\n",
    "</p>\n",
    "</div>\n",
    "\n",
    "<div style=\"width:100%;text-align: center; background-color:#white;\"> <img align=middle src=\"https://velog.velcdn.com/images/shlee0125/post/cc79313d-5a9c-406e-a9a6-45c5d9292e2f/image.png\" alt=\" SVC \"width=\"550\" height=\"550\" >\n"
   ]
  },
  {
   "cell_type": "code",
   "execution_count": 14,
   "id": "6559413c",
   "metadata": {},
   "outputs": [
    {
     "data": {
      "text/plain": [
       "SVC()"
      ]
     },
     "execution_count": 14,
     "metadata": {},
     "output_type": "execute_result"
    }
   ],
   "source": [
    "svm = SVC()\n",
    "svm.fit(X_train , y_train)"
   ]
  },
  {
   "cell_type": "code",
   "execution_count": 15,
   "id": "8a4d920d",
   "metadata": {},
   "outputs": [
    {
     "data": {
      "text/plain": [
       "0.8831578947368421"
      ]
     },
     "execution_count": 15,
     "metadata": {},
     "output_type": "execute_result"
    }
   ],
   "source": [
    "y_pred = svm.predict(X_test)\n",
    "accuracy_score(y_test,y_pred)"
   ]
  },
  {
   "cell_type": "markdown",
   "id": "e1c2f67a",
   "metadata": {},
   "source": [
    "\n",
    "----------------\n",
    "<div style=\"color:white;\n",
    "           display:fill;\n",
    "           border-radius:3px;\n",
    "           background-color:#74A8D5;\n",
    "           font-size:200%;\n",
    "           font-family:Serif;\n",
    "           letter-spacing:0.5px\">\n",
    "\n",
    "<p style=\"padding: 4px;\n",
    "          color:white;\n",
    "          font-size:120%;\n",
    "          text-align:center;\">\n",
    "Logistic Regression\n",
    "</p>\n",
    "</div>\n",
    "\n",
    "<div style=\"width:100%;text-align: center; background-color:#white;\"> <img align=middle src=\"https://www.dataschool.io/content/images/2021/02/logistic_regression.png\" alt=\" Logistic Regression \"width=\"550\" height=\"550\" >\n"
   ]
  },
  {
   "cell_type": "code",
   "execution_count": 16,
   "id": "9c2596ac",
   "metadata": {},
   "outputs": [
    {
     "data": {
      "text/plain": [
       "LogisticRegression()"
      ]
     },
     "execution_count": 16,
     "metadata": {},
     "output_type": "execute_result"
    }
   ],
   "source": [
    "lr_model = LogisticRegression()\n",
    "lr_model.fit(X_train,y_train)"
   ]
  },
  {
   "cell_type": "code",
   "execution_count": 17,
   "id": "20197c73",
   "metadata": {},
   "outputs": [
    {
     "data": {
      "text/plain": [
       "0.848421052631579"
      ]
     },
     "execution_count": 17,
     "metadata": {},
     "output_type": "execute_result"
    }
   ],
   "source": [
    "y_pred = lr_model.predict(X_test)\n",
    "accuracy_score(y_test,y_pred)"
   ]
  },
  {
   "cell_type": "markdown",
   "id": "9983ce88",
   "metadata": {},
   "source": [
    "----------------\n",
    "<div style=\"color:white;\n",
    "           display:fill;\n",
    "           border-radius:3px;\n",
    "           background-color:#74A8D5;\n",
    "           font-size:200%;\n",
    "           font-family:Serif;\n",
    "           letter-spacing:0.5px\">\n",
    "\n",
    "<p style=\"padding: 4px;\n",
    "          color:white;\n",
    "          font-size:120%;\n",
    "          text-align:center;\">\n",
    "Voting Technique \n",
    "</p>\n",
    "</div>\n",
    "\n",
    "<div style=\"width:100%;text-align: center; background-color:#white;\"> <img align=middle src=\"https://imgur.com/eAruUj3.png\" alt=\"  Voting \"width=\"750\" height=\"600\" >"
   ]
  },
  {
   "cell_type": "markdown",
   "id": "72a9791d",
   "metadata": {},
   "source": [
    " <p style=\"padding: 10px;\n",
    "          color:#4D3737;\n",
    "          font-size:180%;\n",
    "          font-family:Serif;\n",
    "          text-align:center;\">   \n",
    " Voting Classifier is a Ensamble Learning Technique that trains various base models or estimators and predicts the output on the basis of aggregating the findings of each base estimator\n",
    "     </p>\n",
    "\n",
    " "
   ]
  },
  {
   "cell_type": "code",
   "execution_count": 18,
   "id": "0b0a1b8b",
   "metadata": {},
   "outputs": [],
   "source": [
    "svm = SVC()\n",
    "LR = LogisticRegression()\n",
    "tree = DecisionTreeClassifier()\n",
    "knn = KNeighborsClassifier(n_neighbors=3)"
   ]
  },
  {
   "cell_type": "code",
   "execution_count": 19,
   "id": "dd892682",
   "metadata": {},
   "outputs": [],
   "source": [
    "models = [('SVM',svm),('Decision Tree',tree),('Logistic Regerssion',LR) , ('KNN',knn)]\n",
    "\n",
    "voting_model = VotingClassifier(estimators= models)"
   ]
  },
  {
   "cell_type": "code",
   "execution_count": 20,
   "id": "3f178b07",
   "metadata": {},
   "outputs": [
    {
     "data": {
      "text/plain": [
       "VotingClassifier(estimators=[('SVM', SVC()),\n",
       "                             ('Decision Tree', DecisionTreeClassifier()),\n",
       "                             ('Logistic Regerssion', LogisticRegression()),\n",
       "                             ('KNN', KNeighborsClassifier(n_neighbors=3))])"
      ]
     },
     "execution_count": 20,
     "metadata": {},
     "output_type": "execute_result"
    }
   ],
   "source": [
    "voting_model.fit(X_train, y_train)"
   ]
  },
  {
   "cell_type": "code",
   "execution_count": 21,
   "id": "6daa573e",
   "metadata": {},
   "outputs": [
    {
     "name": "stderr",
     "output_type": "stream",
     "text": [
      "C:\\Users\\Tweety\\anaconda3\\lib\\site-packages\\sklearn\\neighbors\\_classification.py:228: FutureWarning: Unlike other reduction functions (e.g. `skew`, `kurtosis`), the default behavior of `mode` typically preserves the axis it acts along. In SciPy 1.11.0, this behavior will change: the default value of `keepdims` will become False, the `axis` over which the statistic is taken will be eliminated, and the value None will no longer be accepted. Set `keepdims` to True or False to avoid this warning.\n",
      "  mode, _ = stats.mode(_y[neigh_ind, k], axis=1)\n"
     ]
    },
    {
     "data": {
      "text/plain": [
       "0.8747368421052631"
      ]
     },
     "execution_count": 21,
     "metadata": {},
     "output_type": "execute_result"
    }
   ],
   "source": [
    "y_pred = voting_model.predict(X_test)\n",
    "accuracy_score(y_test,y_pred)"
   ]
  },
  {
   "cell_type": "markdown",
   "id": "9052eeaf",
   "metadata": {},
   "source": [
    "---------------\n",
    "<div style=\"color:white;\n",
    "           display:fill;\n",
    "           border-radius:3px;\n",
    "           background-color:#74A8D5;\n",
    "           font-size:200%;\n",
    "           font-family:Serif;\n",
    "           letter-spacing:0.5px\">\n",
    "\n",
    "<p style=\"padding: 4px;\n",
    "          color:white;\n",
    "          font-size:120%;\n",
    "          text-align:center;\">\n",
    "Bagging Technique \n",
    "</p>\n",
    "</div>\n",
    "\n",
    "<div style=\"width:100%;text-align: center; background-color:#white;\"> <img align=middle src=\"https://media.geeksforgeeks.org/wp-content/uploads/20210707140912/Bagging.png\" alt=\"Bagging\" width=\"750\" height=\"600\" >"
   ]
  },
  {
   "cell_type": "markdown",
   "id": "e8d3326a",
   "metadata": {},
   "source": [
    "<p style=\"padding: 10px;\n",
    "          color:#4D3737;\n",
    "          font-size:180%;\n",
    "          font-family:Serif;\n",
    "          text-align:center;\">   \n",
    "Bagging is an Ensamble Learning Technique that creates base models with same algoriths and trained in bootstrap data in parallel and the final predictions are determined by combining the predictions from all the models\n",
    "     </p>\n"
   ]
  },
  {
   "cell_type": "code",
   "execution_count": 22,
   "id": "8321c72f",
   "metadata": {},
   "outputs": [
    {
     "data": {
      "text/plain": [
       "BaggingClassifier(base_estimator=KNeighborsClassifier(n_neighbors=3))"
      ]
     },
     "execution_count": 22,
     "metadata": {},
     "output_type": "execute_result"
    }
   ],
   "source": [
    "bagging = BaggingClassifier(\n",
    "    base_estimator= knn,\n",
    "    n_estimators = 10\n",
    ")\n",
    "\n",
    "\n",
    "bagging.fit(X_train , y_train)"
   ]
  },
  {
   "cell_type": "code",
   "execution_count": 23,
   "id": "319dce1a",
   "metadata": {},
   "outputs": [
    {
     "data": {
      "text/plain": [
       "0.8694736842105263"
      ]
     },
     "execution_count": 23,
     "metadata": {},
     "output_type": "execute_result"
    }
   ],
   "source": [
    "y_pred = bagging.predict(X_test)\n",
    "accuracy_score(y_test,y_pred)"
   ]
  },
  {
   "cell_type": "markdown",
   "id": "a172d159",
   "metadata": {},
   "source": [
    "----------------\n",
    "<div style=\"color:white;\n",
    "           display:fill;\n",
    "           border-radius:3px;\n",
    "           background-color:#74A8D5;\n",
    "           font-size:200%;\n",
    "           font-family:Serif;\n",
    "           letter-spacing:0.5px\">\n",
    "\n",
    "<p style=\"padding: 4px;\n",
    "          color:white;\n",
    "          font-size:120%;\n",
    "          text-align:center;\">\n",
    "Stacking Technique \n",
    "</p>\n",
    "</div>\n",
    "\n",
    "<div style=\"width:100%;text-align: center; background-color:#white;\"> <img align=middle src=\"https://miro.medium.com/v2/resize:fit:1400/1*3LgG3geyPppu52SwZ4b5kQ.png\" alt=\"Stacking\" width=\"750\" height=\"600\" >"
   ]
  },
  {
   "cell_type": "markdown",
   "id": "1b6c8065",
   "metadata": {},
   "source": [
    "<p style=\"padding: 10px;\n",
    "          color:#4D3737;\n",
    "          font-size:180%;\n",
    "          font-family:Serif;\n",
    "          text-align:center;\">   \n",
    "Stacking is an Ensamble Learning Technique entails training numerous base models on the same training dataset, then feeding their predictions into a higher-level model, also known as a meta-model to make the final prediction\n",
    "     </p>"
   ]
  },
  {
   "cell_type": "code",
   "execution_count": 24,
   "id": "a9c52d92",
   "metadata": {},
   "outputs": [
    {
     "data": {
      "text/plain": [
       "StackingClassifier(cv=5,\n",
       "                   estimators=[('SVM', SVC()),\n",
       "                               ('Decision Tree', DecisionTreeClassifier()),\n",
       "                               ('Logistic Regerssion', LogisticRegression()),\n",
       "                               ('KNN', KNeighborsClassifier(n_neighbors=3))],\n",
       "                   final_estimator=LogisticRegression())"
      ]
     },
     "execution_count": 24,
     "metadata": {},
     "output_type": "execute_result"
    }
   ],
   "source": [
    "base_models = [('SVM',SVC()),('Decision Tree',DecisionTreeClassifier()),('Logistic Regerssion',LogisticRegression()) , ('KNN',KNeighborsClassifier(n_neighbors=3))]\n",
    "stacking = StackingClassifier(\n",
    "    estimators = base_models , \n",
    "    final_estimator = LogisticRegression(),\n",
    "    cv = 5)\n",
    "\n",
    "stacking.fit(X_train , y_train)"
   ]
  },
  {
   "cell_type": "code",
   "execution_count": 25,
   "id": "9d5583cd",
   "metadata": {},
   "outputs": [
    {
     "data": {
      "text/plain": [
       "0.8757894736842106"
      ]
     },
     "execution_count": 25,
     "metadata": {},
     "output_type": "execute_result"
    }
   ],
   "source": [
    "y_pred = stacking.predict(X_test)\n",
    "accuracy_score(y_test,y_pred)"
   ]
  },
  {
   "cell_type": "markdown",
   "id": "c7aac021",
   "metadata": {},
   "source": [
    "----------------\n",
    "<div style=\"color:white;\n",
    "           display:fill;\n",
    "           border-radius:3px;\n",
    "           background-color:#74A8D5;\n",
    "           font-size:200%;\n",
    "           font-family:Serif;\n",
    "           letter-spacing:0.5px\">\n",
    "\n",
    "<p style=\"padding: 4px;\n",
    "          color:white;\n",
    "          font-size:120%;\n",
    "          text-align:center;\">\n",
    "XGBoost Classifier \n",
    "</p>\n",
    "</div>\n",
    "\n",
    "<div style=\"width:100%;text-align: center; background-color:#white;\"> <img align=middle src=\"https://www.researchgate.net/publication/357326883/figure/fig4/AS:1106218835816448@1640754531043/A-schematic-illustration-of-XGBoost-depicting-the-main-node-interior-nodes-and-the.png\" alt=\"Stacking\" width=\"750\" height=\"600\" >"
   ]
  },
  {
   "cell_type": "code",
   "execution_count": 26,
   "id": "fbfd1372",
   "metadata": {},
   "outputs": [
    {
     "data": {
      "text/plain": [
       "0.8947368421052632"
      ]
     },
     "execution_count": 26,
     "metadata": {},
     "output_type": "execute_result"
    }
   ],
   "source": [
    "xgb = XGBClassifier(n_estimators=10000, max_depth=11, learning_rate=0.01, objective='binary:logistic')\n",
    "xgb.fit(X_train, y_train)\n",
    "y_pred = xgb.predict(X_test)\n",
    "accuracy_score(y_test,y_pred)"
   ]
  },
  {
   "cell_type": "markdown",
   "id": "b5d8f3f4",
   "metadata": {},
   "source": [
    "\n",
    "\n",
    "<div style=\"width:100%;text-align: center; background-color:#white;\"> \n",
    "<div style=\"color:white;\n",
    "           display:fill;\n",
    "           border-radius:3px;\n",
    "           background-color:#74A8D5;\n",
    "           font-size:200%;\n",
    "           font-family:Serif;\n",
    "           letter-spacing:0.5px\">\n",
    "\n",
    "<p style=\"padding: 4px;\n",
    "          color:white;\n",
    "          font-size:120%;\n",
    "          text-align:center;\">\n",
    "Extra_Tree Classifier \n",
    "</p>\n",
    "</div>\n",
    "\n",
    "<div style=\"width:100%;text-align: center; background-color:#white;\"> <img align=middle src=\"https://miro.medium.com/v2/resize:fit:1054/1*cdkwGSf9xshwWNfA4lvyAw.png\" alt=\"Stacking\" width=\"750\" height=\"600\" >"
   ]
  },
  {
   "cell_type": "code",
   "execution_count": 39,
   "id": "0d76356f",
   "metadata": {},
   "outputs": [
    {
     "data": {
      "text/plain": [
       "0.8989473684210526"
      ]
     },
     "execution_count": 39,
     "metadata": {},
     "output_type": "execute_result"
    }
   ],
   "source": [
    "Extra= ExtraTreesClassifier(n_estimators=10000, random_state=0)\n",
    "Extra.fit(X_train, y_train)\n",
    "y_pred = Extra.predict(X_test)\n",
    "accuracy_score(y_test,y_pred)"
   ]
  },
  {
   "cell_type": "markdown",
   "id": "2e307c3c",
   "metadata": {},
   "source": [
    "<div style=\"color:white;\n",
    "           display:fill;\n",
    "           border-radius:5px;\n",
    "           background-color:#32747B;\n",
    "           font-size:200%;\n",
    "           font-family:Serif;\n",
    "           letter-spacing:0.5px\">\n",
    "\n",
    "<p style=\"padding: 10px;\n",
    "          color:#FFFFFF;\n",
    "          font-size:120%;\n",
    "          text-align:center;\">\n",
    "Testing and Deployment\n",
    "</p>\n",
    "</div>"
   ]
  },
  {
   "cell_type": "code",
   "execution_count": 50,
   "id": "aa9c96f3",
   "metadata": {},
   "outputs": [],
   "source": [
    "X_t=[]\n",
    "word_path=r\"C:\\Users\\Tweety\\Videos\\AI\\Books for DS&AI\\sound_test\"\n",
    "for speech in os.listdir(word_path):\n",
    "    if speech.endswith('.wav'):\n",
    "        file_path = os.path.join(word_path, speech)\n",
    "        mfcc = extract_mfcc(file_path)\n",
    "        X_t.append(mfcc)"
   ]
  },
  {
   "cell_type": "code",
   "execution_count": 51,
   "id": "938bb185",
   "metadata": {},
   "outputs": [],
   "source": [
    "X_t= scaler.fit_transform(X_t)"
   ]
  },
  {
   "cell_type": "code",
   "execution_count": 52,
   "id": "447317b6",
   "metadata": {},
   "outputs": [],
   "source": [
    "y_pred = xgb.predict(X_t)"
   ]
  },
  {
   "cell_type": "code",
   "execution_count": 53,
   "id": "ca69ba07",
   "metadata": {},
   "outputs": [
    {
     "name": "stdout",
     "output_type": "stream",
     "text": [
      "['yes' 'yes' 'yes' 'no']\n"
     ]
    }
   ],
   "source": [
    "print(label_encoder.inverse_transform(y_pred))"
   ]
  },
  {
   "cell_type": "code",
   "execution_count": 60,
   "id": "0101f491",
   "metadata": {},
   "outputs": [],
   "source": [
    "audio_file1=r\"C:\\Users\\Tweety\\Videos\\AI\\Books for DS&AI\\sound_test\\3.wav\"\n",
    "audio_1, sr = librosa.load(audio_file1, sr=None)"
   ]
  },
  {
   "cell_type": "code",
   "execution_count": 61,
   "id": "6ef683d6",
   "metadata": {},
   "outputs": [],
   "source": [
    "import sounddevice as sd\n",
    "sd.play(audio_1, sr)\n",
    "sd.wait()"
   ]
  },
  {
   "cell_type": "markdown",
   "id": "1165e572",
   "metadata": {},
   "source": [
    "<p style=\"padding: 10px;\n",
    "          color:#32747B;\n",
    "          font-size:180%;\n",
    "          font-family:Serif;\n",
    "          text-align:center;\">   \n",
    "More Models\n",
    "     </p>"
   ]
  },
  {
   "attachments": {
    "image.png": {
     "image/png": "[encoded data removed]"
    }
   },
   "cell_type": "markdown",
   "id": "f8dc851d",
   "metadata": {},
   "source": [
    "![image.png](attachment:image.png)"
   ]
  }
 ],
 "metadata": {
  "kernelspec": {
   "display_name": "Python 3",
   "language": "python",
   "name": "python3"
  },
  "language_info": {
   "codemirror_mode": {
    "name": "ipython",
    "version": 3
   },
   "file_extension": ".py",
   "mimetype": "text/x-python",
   "name": "python",
   "nbconvert_exporter": "python",
   "pygments_lexer": "ipython3",
   "version": "3.12.1"
  }
 },
 "nbformat": 4,
 "nbformat_minor": 5
}
